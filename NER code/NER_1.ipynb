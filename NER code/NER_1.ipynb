{
 "cells": [
  {
   "cell_type": "code",
   "execution_count": 1,
   "metadata": {},
   "outputs": [
    {
     "data": {
      "text/plain": [
       "'c:\\\\Users\\\\carlos.anton\\\\OneDrive - Grupo VASS\\\\Carlos\\\\Desarrollo_personal\\\\CVInsights-Project\\\\venv\\\\Scripts\\\\python.exe'"
      ]
     },
     "execution_count": 1,
     "metadata": {},
     "output_type": "execute_result"
    }
   ],
   "source": [
    "import sys\n",
    "sys.executable"
   ]
  },
  {
   "cell_type": "code",
   "execution_count": 2,
   "metadata": {},
   "outputs": [
    {
     "name": "stderr",
     "output_type": "stream",
     "text": [
      "c:\\Users\\carlos.anton\\OneDrive - Grupo VASS\\Carlos\\Desarrollo_personal\\CVInsights-Project\\venv\\Lib\\site-packages\\tqdm\\auto.py:21: TqdmWarning: IProgress not found. Please update jupyter and ipywidgets. See https://ipywidgets.readthedocs.io/en/stable/user_install.html\n",
      "  from .autonotebook import tqdm as notebook_tqdm\n",
      "c:\\Users\\carlos.anton\\OneDrive - Grupo VASS\\Carlos\\Desarrollo_personal\\CVInsights-Project\\venv\\Lib\\site-packages\\transformers\\utils\\generic.py:441: UserWarning: torch.utils._pytree._register_pytree_node is deprecated. Please use torch.utils._pytree.register_pytree_node instead.\n",
      "  _torch_pytree._register_pytree_node(\n",
      "c:\\Users\\carlos.anton\\OneDrive - Grupo VASS\\Carlos\\Desarrollo_personal\\CVInsights-Project\\venv\\Lib\\site-packages\\transformers\\utils\\generic.py:309: UserWarning: torch.utils._pytree._register_pytree_node is deprecated. Please use torch.utils._pytree.register_pytree_node instead.\n",
      "  _torch_pytree._register_pytree_node(\n"
     ]
    },
    {
     "data": {
      "text/html": [
       "<span class=\"tex2jax_ignore\"><div class=\"entities\" style=\"line-height: 2.5; direction: ltr\">IN THE MATTER OF a proposed contract between \n",
       "<mark class=\"entity\" style=\"background: #7aecec; padding: 0.45em 0.6em; margin: 0 0.25em; line-height: 1; border-radius: 0.35em;\">\n",
       "    the Department of Citywide Administrative Services of\n",
       "    <span style=\"font-size: 0.8em; font-weight: bold; line-height: 1; border-radius: 0.35em; vertical-align: middle; margin-left: 0.5rem\">ORG</span>\n",
       "</mark>\n",
       " \n",
       "<mark class=\"entity\" style=\"background: #feca74; padding: 0.45em 0.6em; margin: 0 0.25em; line-height: 1; border-radius: 0.35em;\">\n",
       "    the City of New York\n",
       "    <span style=\"font-size: 0.8em; font-weight: bold; line-height: 1; border-radius: 0.35em; vertical-align: middle; margin-left: 0.5rem\">GPE</span>\n",
       "</mark>\n",
       " and \n",
       "<mark class=\"entity\" style=\"background: #7aecec; padding: 0.45em 0.6em; margin: 0 0.25em; line-height: 1; border-radius: 0.35em;\">\n",
       "    Tesla, Inc.\n",
       "    <span style=\"font-size: 0.8em; font-weight: bold; line-height: 1; border-radius: 0.35em; vertical-align: middle; margin-left: 0.5rem\">ORG</span>\n",
       "</mark>\n",
       ", located at \n",
       "<mark class=\"entity\" style=\"background: #e4e7d2; padding: 0.45em 0.6em; margin: 0 0.25em; line-height: 1; border-radius: 0.35em;\">\n",
       "    3500\n",
       "    <span style=\"font-size: 0.8em; font-weight: bold; line-height: 1; border-radius: 0.35em; vertical-align: middle; margin-left: 0.5rem\">CARDINAL</span>\n",
       "</mark>\n",
       " Deer Creek Rd., \n",
       "<mark class=\"entity\" style=\"background: #feca74; padding: 0.45em 0.6em; margin: 0 0.25em; line-height: 1; border-radius: 0.35em;\">\n",
       "    Palo Alto\n",
       "    <span style=\"font-size: 0.8em; font-weight: bold; line-height: 1; border-radius: 0.35em; vertical-align: middle; margin-left: 0.5rem\">GPE</span>\n",
       "</mark>\n",
       ", CA 94304, for procuring \n",
       "<mark class=\"entity\" style=\"background: #aa9cfc; padding: 0.45em 0.6em; margin: 0 0.25em; line-height: 1; border-radius: 0.35em;\">\n",
       "    Tesla Model 3\n",
       "    <span style=\"font-size: 0.8em; font-weight: bold; line-height: 1; border-radius: 0.35em; vertical-align: middle; margin-left: 0.5rem\">PERSON</span>\n",
       "</mark>\n",
       " \n",
       "<mark class=\"entity\" style=\"background: #7aecec; padding: 0.45em 0.6em; margin: 0 0.25em; line-height: 1; border-radius: 0.35em;\">\n",
       "    All-Electric Sedans\n",
       "    <span style=\"font-size: 0.8em; font-weight: bold; line-height: 1; border-radius: 0.35em; vertical-align: middle; margin-left: 0.5rem\">ORG</span>\n",
       "</mark>\n",
       ". The contract is in the amount of $\n",
       "<mark class=\"entity\" style=\"background: #e4e7d2; padding: 0.45em 0.6em; margin: 0 0.25em; line-height: 1; border-radius: 0.35em;\">\n",
       "    12,360,000.00\n",
       "    <span style=\"font-size: 0.8em; font-weight: bold; line-height: 1; border-radius: 0.35em; vertical-align: middle; margin-left: 0.5rem\">MONEY</span>\n",
       "</mark>\n",
       ". The term of the contract shall be \n",
       "<mark class=\"entity\" style=\"background: #bfe1d9; padding: 0.45em 0.6em; margin: 0 0.25em; line-height: 1; border-radius: 0.35em;\">\n",
       "    five years\n",
       "    <span style=\"font-size: 0.8em; font-weight: bold; line-height: 1; border-radius: 0.35em; vertical-align: middle; margin-left: 0.5rem\">DATE</span>\n",
       "</mark>\n",
       " from date of \n",
       "<mark class=\"entity\" style=\"background: #7aecec; padding: 0.45em 0.6em; margin: 0 0.25em; line-height: 1; border-radius: 0.35em;\">\n",
       "    Notice of Award\n",
       "    <span style=\"font-size: 0.8em; font-weight: bold; line-height: 1; border-radius: 0.35em; vertical-align: middle; margin-left: 0.5rem\">ORG</span>\n",
       "</mark>\n",
       ". The proposed contractor has been selected by \n",
       "<mark class=\"entity\" style=\"background: #7aecec; padding: 0.45em 0.6em; margin: 0 0.25em; line-height: 1; border-radius: 0.35em;\">\n",
       "    Sole Source Procurement Method\n",
       "    <span style=\"font-size: 0.8em; font-weight: bold; line-height: 1; border-radius: 0.35em; vertical-align: middle; margin-left: 0.5rem\">ORG</span>\n",
       "</mark>\n",
       ", pursuant to \n",
       "<mark class=\"entity\" style=\"background: #ff8197; padding: 0.45em 0.6em; margin: 0 0.25em; line-height: 1; border-radius: 0.35em;\">\n",
       "    Section 3-05\n",
       "    <span style=\"font-size: 0.8em; font-weight: bold; line-height: 1; border-radius: 0.35em; vertical-align: middle; margin-left: 0.5rem\">LAW</span>\n",
       "</mark>\n",
       " of \n",
       "<mark class=\"entity\" style=\"background: #7aecec; padding: 0.45em 0.6em; margin: 0 0.25em; line-height: 1; border-radius: 0.35em;\">\n",
       "    the Procurement Policy Board Rules\n",
       "    <span style=\"font-size: 0.8em; font-weight: bold; line-height: 1; border-radius: 0.35em; vertical-align: middle; margin-left: 0.5rem\">ORG</span>\n",
       "</mark>\n",
       ". If the plan does go through, the \n",
       "<mark class=\"entity\" style=\"background: #e4e7d2; padding: 0.45em 0.6em; margin: 0 0.25em; line-height: 1; border-radius: 0.35em;\">\n",
       "    $12.36 million\n",
       "    <span style=\"font-size: 0.8em; font-weight: bold; line-height: 1; border-radius: 0.35em; vertical-align: middle; margin-left: 0.5rem\">MONEY</span>\n",
       "</mark>\n",
       " could effectively purchase \n",
       "<mark class=\"entity\" style=\"background: #e4e7d2; padding: 0.45em 0.6em; margin: 0 0.25em; line-height: 1; border-radius: 0.35em;\">\n",
       "    about 274\n",
       "    <span style=\"font-size: 0.8em; font-weight: bold; line-height: 1; border-radius: 0.35em; vertical-align: middle; margin-left: 0.5rem\">CARDINAL</span>\n",
       "</mark>\n",
       " units of the base Model 3 Rear-Wheel-Drive, which cost $\n",
       "<mark class=\"entity\" style=\"background: #e4e7d2; padding: 0.45em 0.6em; margin: 0 0.25em; line-height: 1; border-radius: 0.35em;\">\n",
       "    44,990\n",
       "    <span style=\"font-size: 0.8em; font-weight: bold; line-height: 1; border-radius: 0.35em; vertical-align: middle; margin-left: 0.5rem\">MONEY</span>\n",
       "</mark>\n",
       " under \n",
       "<mark class=\"entity\" style=\"background: #7aecec; padding: 0.45em 0.6em; margin: 0 0.25em; line-height: 1; border-radius: 0.35em;\">\n",
       "    Tesla\n",
       "    <span style=\"font-size: 0.8em; font-weight: bold; line-height: 1; border-radius: 0.35em; vertical-align: middle; margin-left: 0.5rem\">ORG</span>\n",
       "</mark>\n",
       "'s current pricing structure.</div></span>"
      ],
      "text/plain": [
       "<IPython.core.display.HTML object>"
      ]
     },
     "metadata": {},
     "output_type": "display_data"
    }
   ],
   "source": [
    "import spacy\n",
    "from spacy import displacy\n",
    "nlp = spacy.load(\"en_core_web_sm\")\n",
    "\n",
    "text = \"IN THE MATTER OF a proposed contract between the Department of Citywide Administrative Services of the City of New York and Tesla, Inc., located at 3500 Deer Creek Rd., Palo Alto, CA 94304, for procuring Tesla Model 3 All-Electric Sedans. The contract is in the amount of $12,360,000.00. The term of the contract shall be five years from date of Notice of Award. The proposed contractor has been selected by Sole Source Procurement Method, pursuant to Section 3-05 of the Procurement Policy Board Rules. If the plan does go through, the $12.36 million could effectively purchase about 274 units of the base Model 3 Rear-Wheel-Drive, which cost $44,990 under Tesla's current pricing structure.\"\n",
    "\n",
    "doc = nlp(text)\n",
    "displacy.render(doc, style=\"ent\")"
   ]
  },
  {
   "cell_type": "code",
   "execution_count": 55,
   "metadata": {},
   "outputs": [],
   "source": [
    "import json\n",
    "import logging\n",
    "\n",
    "def convert_dataturks_to_spacy(dataturks_JSON_FilePath):\n",
    "    try:\n",
    "        TRAIN_DATA = []\n",
    "        with open(dataturks_JSON_FilePath, 'r', encoding=\"utf8\") as f:\n",
    "            data = json.load(f)\n",
    "            for item in data:\n",
    "                text = item['content']\n",
    "                entities = []\n",
    "                for annotation in item['annotation']:\n",
    "                    point = annotation['points'][0]\n",
    "                    labels = annotation['label']\n",
    "                    if not isinstance(labels, list):\n",
    "                        labels = [labels]\n",
    "                    for label in labels:\n",
    "                        entities.append((point['start'], point['end'] + 1, label))\n",
    "                TRAIN_DATA.append((text, {\"entities\": entities}))\n",
    "        return TRAIN_DATA\n",
    "    except Exception as e:\n",
    "        logging.exception(\"Unable to process \" + dataturks_JSON_FilePath + \"\\n\" + \"error = \" + str(e))\n",
    "        return None"
   ]
  },
  {
   "cell_type": "code",
   "execution_count": 3,
   "metadata": {},
   "outputs": [
    {
     "name": "stdout",
     "output_type": "stream",
     "text": [
      "['tok2vec', 'tagger', 'parser', 'attribute_ruler', 'lemmatizer', 'ner']\n"
     ]
    }
   ],
   "source": [
    "# Consultamos las capacidades del modelo\n",
    "print(nlp.pipe_names)"
   ]
  },
  {
   "cell_type": "code",
   "execution_count": 5,
   "metadata": {},
   "outputs": [
    {
     "name": "stdout",
     "output_type": "stream",
     "text": [
      "('CARDINAL', 'DATE', 'EVENT', 'FAC', 'GPE', 'LANGUAGE', 'LAW', 'LOC', 'MONEY', 'NORP', 'ORDINAL', 'ORG', 'PERCENT', 'PERSON', 'PRODUCT', 'QUANTITY', 'TIME', 'WORK_OF_ART')\n"
     ]
    }
   ],
   "source": [
    "# Consultar información sobre las entidades nombradas (NER)\n",
    "print(nlp.get_pipe(\"ner\").labels)"
   ]
  },
  {
   "cell_type": "code",
   "execution_count": 56,
   "metadata": {},
   "outputs": [],
   "source": [
    "import json\n",
    "import logging\n",
    "\n",
    "TRAIN_DATA = convert_dataturks_to_spacy(\"traindata_array.json\")"
   ]
  },
  {
   "cell_type": "code",
   "execution_count": 68,
   "metadata": {},
   "outputs": [
    {
     "data": {
      "text/plain": [
       "[('Vijayalakshmi Govindarajan\\nSAP as a Consultant - SAP Basis\\n\\nChennai, Tamil Nadu - Email me on Indeed: indeed.com/r/Vijayalakshmi-Govindarajan/\\nd71bfb70a66b0046\\n\\nWilling to relocate: Anywhere\\n\\nWORK EXPERIENCE\\n\\nSAP as a Consultant\\n\\nSAP Basis -\\n\\nMay 2012 to Present\\n\\nInvolved in 3 support Projects and 1 implementation Project.\\n• System Build, System Refresh, system upgrade and system maintenance activities.\\n• Self-motivated and goal-oriented, with a strong ability to organize and prioritize tasks\\nefficiently.\\n• Excellent team player with good communication, analytical, problem solving skills.\\n• Certification Done: Oracle certified Java Programmer\\n• Finished Diploma in Java course from NIIT\\n\\nEDUCATION\\n\\nMCA in Computer Applications\\n\\nThiagarajar School of Management -  Madurai, Tamil Nadu\\n\\nBSc\\n\\nSri Sathya Sai Institute of Higher Learning -  Anantapur, Andhra Pradesh\\n\\nHSC\\n\\nTVS Lakshmi Matriculation Higher Secondary School -  Madurai, Tamil Nadu\\n\\nSSLC\\n\\nTVS Lakshmi Matriculation Higher Secondary School -  Madurai, Tamil Nadu\\n\\nSKILLS\\n\\nJAVA (6 years), ORACLE (6 years), SAP (6 years), ABAP (Less than 1 year), ACCESS (Less than 1\\nyear)\\n\\nADDITIONAL INFORMATION\\n\\nTECHNICAL EXPERTISE\\n\\nhttps://www.indeed.com/r/Vijayalakshmi-Govindarajan/d71bfb70a66b0046?isid=rex-download&ikw=download-top&co=IN\\nhttps://www.indeed.com/r/Vijayalakshmi-Govindarajan/d71bfb70a66b0046?isid=rex-download&ikw=download-top&co=IN\\n\\n\\nOperating System\\n• Worked on UNIX AIX and Windows Environment.\\n• Troubleshooting & Identifying OS level Bottle necks.\\n• Monitoring Top CPU Utilization/Memory Utilization issues at OS-level.\\n• Administrating File system and permission issues at OS-Level.\\nDatabase Administration\\n• Database administration on Oracle 10 g, 11 g, 12 c.\\n• Monitoring & perform database backup at DB13 level.\\n• Cluster Administration on Oracle 11 g, 12 c..\\nSAP HANA Database Administration\\n• Monitoring HANA DB and to troubleshoot performance issues using HANA studio.\\n• Importing and activating views and procedures.\\n• Troubleshooting HANA data and log backup issues.\\n• Monitoring top CPU Utilization/Memory Utilization issues at OS-level.\\n• SLT Replication of tables from ECC to HANA DB.\\nThird Party Tools Worked\\n• Open text.\\n• PAS - Pay metric Adapters.\\n• TRAX\\n• HP, Service now.\\n• CPS, Redwood Job scheduling.\\n• Vertex.\\nProgramming Knowledge\\nC, C++, Core Java, J2EE, EJB, Struts\\n\\nContributions and Achievements\\n• Conducted training for New joiners\\n• Conducted team meetings and internal training sessions\\n• Received \"Manager\\'s Choice Award\" thrice for managing crisis situation\\n• Received \"Deep Skill Adder Award\" every quarter for taking Personal interest\\nPROJECT (Support): 1\\nOrganization: IBM India PVT LTD\\nRole: SAP Basis Consultant\\nClient: Maersk Line- MLIT Basis\\nDatabase: Oracle 11g\\nPlatform: Linux 2.6\\nPeriod: April 2015 to September 2016 and from Aug 01, 2017 to till date\\nResponsibilities:\\n• Creation of OSS ID and registering Developer for Access key and Object key in SMP.\\n• Apply OSS Notes using SNOTE.\\n• Experience on deployment of digital signature in Java Landscape.\\n• Apply SPAM/SAINT, Support Packages, and Add-ons.\\n• Performance Monitoring for ECC, BI, SRM, CRM, and PI systems.\\n• Handling user tickets and system performance tickets.\\n• Background Job Administration such as scheduling/Cancelling and Troubleshooting background\\njobs as per client requirement \\'\\n• Performed daily health checks across the landscape.\\n• Analyzing and troubleshooting daily issues occurred in health checks.\\n• Index rebuild for BW and ECC systems.\\n\\n\\n\\n• Run update stats for ECC and BW tables.\\n• Printer configuration.\\n• Detecting Expensive SQL statements\\n• Monitoring and troubleshooting JAVA systems using NWA and admin tools like Visual Admin tool\\nand Config tool.\\n• Database cluster Administration.\\n• System Refresh from Production to Quality and Pre Prod.\\n• System Restore from Production to Quality, Pre Prod. Same system restore\\n• System Upgrade from EHP 6 to EHP 7.\\n• Kernel upgrade for the entire landscape.\\n• System Build for System Upgrade.\\n• DB Export and Import across the landscape.\\nPROJECT (Implementation): 2\\nOrganization: IBM India PVT LTD\\nRole: SAP Basis Consultant\\nClient: Maersk Line- MLIT Build Basis\\nDatabase: Oracle 11g\\nPlatform: Linux 2.6\\nPeriod: September 2016 to July 2017\\nResponsibilities:\\n• Creation Database Source in Java systems.\\n• Creation of Product, Software Component, Business Systems and Technical Systems in PO SLDs.\\n• Performance capture whenever test load went into the system.\\n• Troubleshooting JAVA and ABAP stack systems.\\n• Creating source systems in BW systems, Maintaining and troubleshooting RFC connections for\\nthe same.\\n• Client opening and closing depending up on requirement.\\n• Creating OSS messages on various issues to SAP in SMP.\\n• SSO Configuration in Solution Manager.\\nPROJECT (Support): 3\\nOrganization: IBM India PVT LTD\\nRole: SAP Basis Consultant\\nClient: Ericsson\\nDatabase: Oracle 11g\\nPlatform: Linux 2.6\\nSAP: ECC 6.0, BW ABAP 7.31\\nPeriod: July 2013 to November 2014.\\nResponsibilities:\\nPerformed all SAP Basis Activities like Performance monitoring, Monthly report generation.\\n• Printer configuration.\\n• Detecting Expensive SQL statements\\n• Monitoring and troubleshooting JAVA systems using NWA and admin tools like Visual Admin tool\\nand Config tool.\\n• Table space monitoring using BRTOOLS.\\n• Database Administration using BRTOOLS.\\n• Kernel upgrades for the entire landscape.\\n• Part of EHP upgrade from ERP6.0 EHP 6 to ERP6.0 EHP 7\\n\\nPROJECT (Support): 4\\n\\n\\n\\nOrganization: IBM India PVT LTD\\nRole: Associate SAP Basis Consultant L1\\nClient: Unilever, UK\\nDatabase: Oracle 10g\\nPlatform: Linux 2.6 Linux V 6.2\\nSAP: ECC 6.0, BW ABAP 7.31, CRM 7.31\\nPeriod: May 2012 to June 2013.\\nResponsibilities:\\nPerformed all SAP Basis Activities like Production System Performance monitoring, Monthly report\\ngeneration.\\n• Performance Monitoring for ECC, BI, SRM, CRM, and PI systems.\\n• Handling User tickets.\\n• Background Job Administration such as scheduling/Cancelling and Troubleshooting background\\njobs as per client requirement \\'\\n• Performed daily health checks across the landscape.\\n• Analyzing and troubleshooting daily issues occurred in health checks.\\n• Importing Transports across the Landscape.\\n• Creating/modifying User roles as per client requirement.\\n\\nPESONAL DETAILS:\\nName: Vijayalakshmi Govindarajan',\n",
       "  {'entities': [(6310, 6336, 'Name'),\n",
       "    (5746, 5755, 'Companies worked at'),\n",
       "    (5548, 5557, 'Companies worked at'),\n",
       "    (5043, 5052, 'Companies worked at'),\n",
       "    (4869, 4878, 'Companies worked at'),\n",
       "    (4149, 4158, 'Companies worked at'),\n",
       "    (2705, 2714, 'Companies worked at'),\n",
       "    (1040, 1140, 'Skills'),\n",
       "    (958, 1007, 'College Name'),\n",
       "    (952, 956, 'Degree'),\n",
       "    (878, 927, 'College Name'),\n",
       "    (873, 876, 'Degree'),\n",
       "    (799, 843, 'College Name'),\n",
       "    (794, 797, 'Degree'),\n",
       "    (737, 770, 'College Name'),\n",
       "    (707, 736, 'Degree'),\n",
       "    (230, 239, 'Companies worked at'),\n",
       "    (102, 159, 'Email Address'),\n",
       "    (60, 68, 'Location'),\n",
       "    (49, 58, 'Companies worked at'),\n",
       "    (27, 47, 'Designation'),\n",
       "    (0, 26, 'Name')]})]"
      ]
     },
     "execution_count": 68,
     "metadata": {},
     "output_type": "execute_result"
    }
   ],
   "source": [
    "TRAIN_DATA[0:1]"
   ]
  },
  {
   "cell_type": "code",
   "execution_count": 58,
   "metadata": {},
   "outputs": [],
   "source": [
    "# def built_spacy_ner(text, target, type):\n",
    "#     start = str.find(text, target)\n",
    "#     end = start + len(target)\n",
    "\n",
    "#     return (text, {\"entities\": [(start, end, type)]})"
   ]
  },
  {
   "cell_type": "code",
   "execution_count": 59,
   "metadata": {},
   "outputs": [],
   "source": [
    "# TRAIN_DATA = []\n",
    "# TRAIN_DATA.append(\n",
    "#   built_spacy_ner(\"I work for Autodesk.\", \"Autodesk\", \"ORG\")\n",
    "#   )"
   ]
  },
  {
   "cell_type": "code",
   "execution_count": 60,
   "metadata": {},
   "outputs": [],
   "source": [
    "# TRAIN_DATA"
   ]
  },
  {
   "cell_type": "code",
   "execution_count": 61,
   "metadata": {},
   "outputs": [],
   "source": [
    "# TRAIN_DATA.extend([\n",
    "#     built_spacy_ner(\"The proposed contract is for the procurement of Tesla Model S Electric Sedans.\", \"Tesla Model S Electric Sedans\", \"PRODUCT\"),\n",
    "#     built_spacy_ner(\"The contract is worth $8,500,000.00.\", \"$8,500,000.00\", \"MONEY\"),\n",
    "#     built_spacy_ner(\"The agreement will last for three years.\", \"three years\", \"DURATION\"),\n",
    "#     built_spacy_ner(\"The selection process follows the guidelines of Section 4-02 of the Procurement Policy Board Rules.\", \"Section 4-02\", \"LAW\"),\n",
    "#     built_spacy_ner(\"If the project proceeds, it could acquire 150 units of the base Model 5 Rear-Wheel-Drive.\", \"150 units of the base Model 5 Rear-Wheel-Drive\", \"PRODUCT\"),\n",
    "#     built_spacy_ner(\"The base Model 5 Rear-Wheel-Drive has a price of $39,990.\", \"$39,990\", \"MONEY\")\n",
    "# ])\n"
   ]
  },
  {
   "cell_type": "code",
   "execution_count": 62,
   "metadata": {},
   "outputs": [],
   "source": [
    "# TRAIN_DATA"
   ]
  },
  {
   "cell_type": "code",
   "execution_count": 63,
   "metadata": {},
   "outputs": [],
   "source": [
    "# adding a named entity label\n",
    "ner = nlp.get_pipe('ner')\n",
    "\n",
    "# Iterate through training data and add new entitle labels.\n",
    "for _, annotations in TRAIN_DATA:\n",
    "  for ent in annotations.get(\"entities\"):\n",
    "    ner.add_label(ent[2])"
   ]
  },
  {
   "cell_type": "code",
   "execution_count": 64,
   "metadata": {},
   "outputs": [],
   "source": [
    "# creating an optimizer and selecting a list of pipes NOT to train\n",
    "optimizer = nlp.create_optimizer()\n",
    "other_pipes = [pipe for pipe in nlp.pipe_names if pipe != 'ner']"
   ]
  },
  {
   "cell_type": "code",
   "execution_count": 65,
   "metadata": {},
   "outputs": [
    {
     "data": {
      "text/plain": [
       "['tok2vec', 'tagger', 'parser', 'attribute_ruler', 'lemmatizer']"
      ]
     },
     "execution_count": 65,
     "metadata": {},
     "output_type": "execute_result"
    }
   ],
   "source": [
    "other_pipes"
   ]
  },
  {
   "cell_type": "code",
   "execution_count": 66,
   "metadata": {},
   "outputs": [
    {
     "name": "stderr",
     "output_type": "stream",
     "text": [
      "c:\\Users\\carlos.anton\\OneDrive - Grupo VASS\\Carlos\\Desarrollo_personal\\NER_TDS\\NER_TDS\\Lib\\site-packages\\spacy\\training\\iob_utils.py:149: UserWarning: [W030] Some entities could not be aligned in the text \"Vijayalakshmi Govindarajan\n",
      "SAP as a Consultant - S...\" with entities \"[(6310, 6336, 'Name'), (5746, 5755, 'Companies wor...\". Use `spacy.training.offsets_to_biluo_tags(nlp.make_doc(text), entities)` to check the alignment. Misaligned entities ('-') will be ignored during training.\n",
      "  warnings.warn(\n",
      "c:\\Users\\carlos.anton\\OneDrive - Grupo VASS\\Carlos\\Desarrollo_personal\\NER_TDS\\NER_TDS\\Lib\\site-packages\\spacy\\training\\iob_utils.py:149: UserWarning: [W030] Some entities could not be aligned in the text \"Krishna Prasad\n",
      "Patna City, Bihar - Email me on Ind...\" with entities \"[(288, 293, 'Location'), (267, 285, 'College Name'...\". Use `spacy.training.offsets_to_biluo_tags(nlp.make_doc(text), entities)` to check the alignment. Misaligned entities ('-') will be ignored during training.\n",
      "  warnings.warn(\n"
     ]
    },
    {
     "ename": "ValueError",
     "evalue": "[E103] Trying to set conflicting doc.ents: '(983, 992, 'Companies worked at')' and '(970, 1002, 'Skills')'. A token can only be part of one entity, so make sure the entities you're setting don't overlap. To work with overlapping entities, consider using doc.spans instead.",
     "output_type": "error",
     "traceback": [
      "\u001b[1;31m---------------------------------------------------------------------------\u001b[0m",
      "\u001b[1;31mValueError\u001b[0m                                Traceback (most recent call last)",
      "\u001b[1;32mc:\\Users\\carlos.anton\\OneDrive - Grupo VASS\\Carlos\\Desarrollo_personal\\NER_TDS\\NER_1.ipynb Cell 14\u001b[0m line \u001b[0;36m1\n\u001b[0;32m     <a href='vscode-notebook-cell:/c%3A/Users/carlos.anton/OneDrive%20-%20Grupo%20VASS/Carlos/Desarrollo_personal/NER_TDS/NER_1.ipynb#X13sZmlsZQ%3D%3D?line=11'>12</a>\u001b[0m             \u001b[39mfor\u001b[39;00m text, annotations \u001b[39min\u001b[39;00m batch:\n\u001b[0;32m     <a href='vscode-notebook-cell:/c%3A/Users/carlos.anton/OneDrive%20-%20Grupo%20VASS/Carlos/Desarrollo_personal/NER_TDS/NER_1.ipynb#X13sZmlsZQ%3D%3D?line=12'>13</a>\u001b[0m                 doc \u001b[39m=\u001b[39m nlp\u001b[39m.\u001b[39mmake_doc(text)\n\u001b[1;32m---> <a href='vscode-notebook-cell:/c%3A/Users/carlos.anton/OneDrive%20-%20Grupo%20VASS/Carlos/Desarrollo_personal/NER_TDS/NER_1.ipynb#X13sZmlsZQ%3D%3D?line=13'>14</a>\u001b[0m                 example \u001b[39m=\u001b[39m Example\u001b[39m.\u001b[39;49mfrom_dict(doc, annotations)\n\u001b[0;32m     <a href='vscode-notebook-cell:/c%3A/Users/carlos.anton/OneDrive%20-%20Grupo%20VASS/Carlos/Desarrollo_personal/NER_TDS/NER_1.ipynb#X13sZmlsZQ%3D%3D?line=14'>15</a>\u001b[0m                 nlp\u001b[39m.\u001b[39mupdate([example], drop\u001b[39m=\u001b[39m\u001b[39m0.35\u001b[39m, sgd\u001b[39m=\u001b[39moptimizer, losses\u001b[39m=\u001b[39mlosses)\n\u001b[0;32m     <a href='vscode-notebook-cell:/c%3A/Users/carlos.anton/OneDrive%20-%20Grupo%20VASS/Carlos/Desarrollo_personal/NER_TDS/NER_1.ipynb#X13sZmlsZQ%3D%3D?line=16'>17</a>\u001b[0m \u001b[39mprint\u001b[39m(\u001b[39m\"\u001b[39m\u001b[39mFinal loss: \u001b[39m\u001b[39m\"\u001b[39m, losses)\n",
      "File \u001b[1;32mc:\\Users\\carlos.anton\\OneDrive - Grupo VASS\\Carlos\\Desarrollo_personal\\NER_TDS\\NER_TDS\\Lib\\site-packages\\spacy\\training\\example.pyx:128\u001b[0m, in \u001b[0;36mspacy.training.example.Example.from_dict\u001b[1;34m()\u001b[0m\n",
      "File \u001b[1;32mc:\\Users\\carlos.anton\\OneDrive - Grupo VASS\\Carlos\\Desarrollo_personal\\NER_TDS\\NER_TDS\\Lib\\site-packages\\spacy\\training\\example.pyx:34\u001b[0m, in \u001b[0;36mspacy.training.example.annotations_to_doc\u001b[1;34m()\u001b[0m\n",
      "File \u001b[1;32mc:\\Users\\carlos.anton\\OneDrive - Grupo VASS\\Carlos\\Desarrollo_personal\\NER_TDS\\NER_TDS\\Lib\\site-packages\\spacy\\training\\example.pyx:509\u001b[0m, in \u001b[0;36mspacy.training.example._add_entities_to_doc\u001b[1;34m()\u001b[0m\n",
      "File \u001b[1;32mc:\\Users\\carlos.anton\\OneDrive - Grupo VASS\\Carlos\\Desarrollo_personal\\NER_TDS\\NER_TDS\\Lib\\site-packages\\spacy\\training\\iob_utils.py:114\u001b[0m, in \u001b[0;36moffsets_to_biluo_tags\u001b[1;34m(doc, entities, missing)\u001b[0m\n\u001b[0;32m    112\u001b[0m \u001b[39mfor\u001b[39;00m token_index \u001b[39min\u001b[39;00m \u001b[39mrange\u001b[39m(start_char, end_char):\n\u001b[0;32m    113\u001b[0m     \u001b[39mif\u001b[39;00m token_index \u001b[39min\u001b[39;00m tokens_in_ents\u001b[39m.\u001b[39mkeys():\n\u001b[1;32m--> 114\u001b[0m         \u001b[39mraise\u001b[39;00m \u001b[39mValueError\u001b[39;00m(\n\u001b[0;32m    115\u001b[0m             Errors\u001b[39m.\u001b[39mE103\u001b[39m.\u001b[39mformat(\n\u001b[0;32m    116\u001b[0m                 span1\u001b[39m=\u001b[39m(\n\u001b[0;32m    117\u001b[0m                     tokens_in_ents[token_index][\u001b[39m0\u001b[39m],\n\u001b[0;32m    118\u001b[0m                     tokens_in_ents[token_index][\u001b[39m1\u001b[39m],\n\u001b[0;32m    119\u001b[0m                     tokens_in_ents[token_index][\u001b[39m2\u001b[39m],\n\u001b[0;32m    120\u001b[0m                 ),\n\u001b[0;32m    121\u001b[0m                 span2\u001b[39m=\u001b[39m(start_char, end_char, label),\n\u001b[0;32m    122\u001b[0m             )\n\u001b[0;32m    123\u001b[0m         )\n\u001b[0;32m    124\u001b[0m     tokens_in_ents[token_index] \u001b[39m=\u001b[39m (start_char, end_char, label)\n\u001b[0;32m    125\u001b[0m start_token \u001b[39m=\u001b[39m starts\u001b[39m.\u001b[39mget(start_char)\n",
      "\u001b[1;31mValueError\u001b[0m: [E103] Trying to set conflicting doc.ents: '(983, 992, 'Companies worked at')' and '(970, 1002, 'Skills')'. A token can only be part of one entity, so make sure the entities you're setting don't overlap. To work with overlapping entities, consider using doc.spans instead."
     ]
    }
   ],
   "source": [
    "import random\n",
    "from spacy.training.example import Example\n",
    "\n",
    "\n",
    "with nlp.disable_pipes(*other_pipes):\n",
    "    for itn in range(10):\n",
    "        random.shuffle(TRAIN_DATA)\n",
    "        losses = {}\n",
    "\n",
    "        # batch the examples and iterate over them\n",
    "        for batch in spacy.util.minibatch(TRAIN_DATA, size=2):\n",
    "            for text, annotations in batch:\n",
    "                doc = nlp.make_doc(text)\n",
    "                example = Example.from_dict(doc, annotations)\n",
    "                nlp.update([example], drop=0.35, sgd=optimizer, losses=losses)\n",
    "\n",
    "print(\"Final loss: \", losses)"
   ]
  },
  {
   "cell_type": "code",
   "execution_count": 19,
   "metadata": {},
   "outputs": [
    {
     "data": {
      "text/html": [
       "<span class=\"tex2jax_ignore\"><div class=\"entities\" style=\"line-height: 2.5; direction: ltr\">IN THE MATTER OF a proposed contract between the Department of Citywide Administrative Services of the City of \n",
       "<mark class=\"entity\" style=\"background: #feca74; padding: 0.45em 0.6em; margin: 0 0.25em; line-height: 1; border-radius: 0.35em;\">\n",
       "    New York\n",
       "    <span style=\"font-size: 0.8em; font-weight: bold; line-height: 1; border-radius: 0.35em; vertical-align: middle; margin-left: 0.5rem\">GPE</span>\n",
       "</mark>\n",
       " and \n",
       "<mark class=\"entity\" style=\"background: #7aecec; padding: 0.45em 0.6em; margin: 0 0.25em; line-height: 1; border-radius: 0.35em;\">\n",
       "    Tesla\n",
       "    <span style=\"font-size: 0.8em; font-weight: bold; line-height: 1; border-radius: 0.35em; vertical-align: middle; margin-left: 0.5rem\">ORG</span>\n",
       "</mark>\n",
       ", Inc., located at 3500 Deer Creek Rd., \n",
       "<mark class=\"entity\" style=\"background: #feca74; padding: 0.45em 0.6em; margin: 0 0.25em; line-height: 1; border-radius: 0.35em;\">\n",
       "    Palo Alto\n",
       "    <span style=\"font-size: 0.8em; font-weight: bold; line-height: 1; border-radius: 0.35em; vertical-align: middle; margin-left: 0.5rem\">GPE</span>\n",
       "</mark>\n",
       ", CA 94304, for procuring \n",
       "<mark class=\"entity\" style=\"background: #bfeeb7; padding: 0.45em 0.6em; margin: 0 0.25em; line-height: 1; border-radius: 0.35em;\">\n",
       "    Tesla Model 3 All-Electric Sedans\n",
       "    <span style=\"font-size: 0.8em; font-weight: bold; line-height: 1; border-radius: 0.35em; vertical-align: middle; margin-left: 0.5rem\">PRODUCT</span>\n",
       "</mark>\n",
       ". The contract is in the amount of \n",
       "<mark class=\"entity\" style=\"background: #e4e7d2; padding: 0.45em 0.6em; margin: 0 0.25em; line-height: 1; border-radius: 0.35em;\">\n",
       "    $12,360,000.00\n",
       "    <span style=\"font-size: 0.8em; font-weight: bold; line-height: 1; border-radius: 0.35em; vertical-align: middle; margin-left: 0.5rem\">MONEY</span>\n",
       "</mark>\n",
       ". The term of the contract shall be \n",
       "<mark class=\"entity\" style=\"background: #bfe1d9; padding: 0.45em 0.6em; margin: 0 0.25em; line-height: 1; border-radius: 0.35em;\">\n",
       "    five years\n",
       "    <span style=\"font-size: 0.8em; font-weight: bold; line-height: 1; border-radius: 0.35em; vertical-align: middle; margin-left: 0.5rem\">DATE</span>\n",
       "</mark>\n",
       " from date of Notice of Award. The proposed contractor has been selected by \n",
       "<mark class=\"entity\" style=\"background: #bfeeb7; padding: 0.45em 0.6em; margin: 0 0.25em; line-height: 1; border-radius: 0.35em;\">\n",
       "    Sole Source Procurement Method\n",
       "    <span style=\"font-size: 0.8em; font-weight: bold; line-height: 1; border-radius: 0.35em; vertical-align: middle; margin-left: 0.5rem\">PRODUCT</span>\n",
       "</mark>\n",
       ", pursuant to \n",
       "<mark class=\"entity\" style=\"background: #ff8197; padding: 0.45em 0.6em; margin: 0 0.25em; line-height: 1; border-radius: 0.35em;\">\n",
       "    Section 3-05\n",
       "    <span style=\"font-size: 0.8em; font-weight: bold; line-height: 1; border-radius: 0.35em; vertical-align: middle; margin-left: 0.5rem\">LAW</span>\n",
       "</mark>\n",
       " of the Procurement Policy Board Rules. If the plan does go through, the \n",
       "<mark class=\"entity\" style=\"background: #e4e7d2; padding: 0.45em 0.6em; margin: 0 0.25em; line-height: 1; border-radius: 0.35em;\">\n",
       "    $12.36 million\n",
       "    <span style=\"font-size: 0.8em; font-weight: bold; line-height: 1; border-radius: 0.35em; vertical-align: middle; margin-left: 0.5rem\">MONEY</span>\n",
       "</mark>\n",
       " could effectively purchase about \n",
       "<mark class=\"entity\" style=\"background: #bfeeb7; padding: 0.45em 0.6em; margin: 0 0.25em; line-height: 1; border-radius: 0.35em;\">\n",
       "    274 units of the base Model 3 Rear-Wheel-Drive\n",
       "    <span style=\"font-size: 0.8em; font-weight: bold; line-height: 1; border-radius: 0.35em; vertical-align: middle; margin-left: 0.5rem\">PRODUCT</span>\n",
       "</mark>\n",
       ", which cost \n",
       "<mark class=\"entity\" style=\"background: #e4e7d2; padding: 0.45em 0.6em; margin: 0 0.25em; line-height: 1; border-radius: 0.35em;\">\n",
       "    $44,990\n",
       "    <span style=\"font-size: 0.8em; font-weight: bold; line-height: 1; border-radius: 0.35em; vertical-align: middle; margin-left: 0.5rem\">MONEY</span>\n",
       "</mark>\n",
       " under \n",
       "<mark class=\"entity\" style=\"background: #7aecec; padding: 0.45em 0.6em; margin: 0 0.25em; line-height: 1; border-radius: 0.35em;\">\n",
       "    Tesla\n",
       "    <span style=\"font-size: 0.8em; font-weight: bold; line-height: 1; border-radius: 0.35em; vertical-align: middle; margin-left: 0.5rem\">ORG</span>\n",
       "</mark>\n",
       "'s current pricing structure.</div></span>"
      ],
      "text/plain": [
       "<IPython.core.display.HTML object>"
      ]
     },
     "metadata": {},
     "output_type": "display_data"
    }
   ],
   "source": [
    "text2 = \"IN THE MATTER OF a proposed contract between the Department of Citywide Administrative Services of the City of New York and Tesla, Inc., located at 3500 Deer Creek Rd., Palo Alto, CA 94304, for procuring Tesla Model 3 All-Electric Sedans. The contract is in the amount of $12,360,000.00. The term of the contract shall be five years from date of Notice of Award. The proposed contractor has been selected by Sole Source Procurement Method, pursuant to Section 3-05 of the Procurement Policy Board Rules. If the plan does go through, the $12.36 million could effectively purchase about 274 units of the base Model 3 Rear-Wheel-Drive, which cost $44,990 under Tesla's current pricing structure.\"\n",
    "\n",
    "doc = nlp(text2)\n",
    "displacy.render(doc, style=\"ent\", jupyter=True)"
   ]
  },
  {
   "cell_type": "code",
   "execution_count": null,
   "metadata": {},
   "outputs": [],
   "source": []
  }
 ],
 "metadata": {
  "kernelspec": {
   "display_name": "NER_TDS",
   "language": "python",
   "name": "python3"
  },
  "language_info": {
   "codemirror_mode": {
    "name": "ipython",
    "version": 3
   },
   "file_extension": ".py",
   "mimetype": "text/x-python",
   "name": "python",
   "nbconvert_exporter": "python",
   "pygments_lexer": "ipython3",
   "version": "3.11.8"
  }
 },
 "nbformat": 4,
 "nbformat_minor": 2
}
